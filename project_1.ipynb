print("ini isi project 1")
